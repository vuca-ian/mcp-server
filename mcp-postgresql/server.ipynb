{
 "cells": [
  {
   "cell_type": "code",
   "execution_count": 1,
   "metadata": {},
   "outputs": [
    {
     "name": "stderr",
     "output_type": "stream",
     "text": [
      "usage: ipykernel_launcher.py [-h] [--host HOST] [--port PORT]\n",
      "ipykernel_launcher.py: error: unrecognized arguments: --f=c:\\Users\\liufa\\AppData\\Roaming\\jupyter\\runtime\\kernel-v352a741a6e4d0afc7f72b5c4bf741f0c4c00beebf.json\n"
     ]
    },
    {
     "ename": "SystemExit",
     "evalue": "2",
     "output_type": "error",
     "traceback": [
      "An exception has occurred, use %tb to see the full traceback.\n",
      "\u001b[31mSystemExit\u001b[39m\u001b[31m:\u001b[39m 2\n"
     ]
    },
    {
     "name": "stderr",
     "output_type": "stream",
     "text": [
      "C:\\Users\\liufa\\AppData\\Roaming\\Python\\Python313\\site-packages\\IPython\\core\\interactiveshell.py:3554: UserWarning: To exit: use 'exit', 'quit', or Ctrl-D.\n",
      "  warn(\"To exit: use 'exit', 'quit', or Ctrl-D.\", stacklevel=1)\n"
     ]
    }
   ],
   "source": [
    "from starlette.applications import Starlette\n",
    "from starlette.requests import Request\n",
    "from starlette.responses import JSONResponse\n",
    "from starlette.routing import Route\n",
    "from mcp.server.fastmcp import FastMCP as Server\n",
    "from mcp.server.sse import SseServerTransport\n",
    "from dotenv import load_dotenv\n",
    "from datasource import createDatasource, Datasource\n",
    "import asyncpg\n",
    "import logging\n",
    "import uvicorn\n",
    "import argparse\n",
    "import os\n",
    "\n",
    "MCP_SERVER_NAME = \"postgres-mcp-sse\"\n",
    "    \n",
    "logging.basicConfig(\n",
    "    level=logging.INFO, format=\"%(asctime)s - %(name)s - %(levelname)s - %(message)s\"\n",
    ")\n",
    "logger = logging.getLogger(MCP_SERVER_NAME)\n",
    "\n",
    "\n",
    "def pg_config():\n",
    "    load_dotenv()\n",
    "    host = os.getenv(\"POSTGRES_HOST\")\n",
    "    port = os.getenv(\"POSTGRES_PORT\")\n",
    "    username = os.getenv(\"POSTGRES_USERNAME\")\n",
    "    password = os.getenv(\"POSTGRES_PASSWORD\")\n",
    "    database = os.getenv(\"POSTGRES_DATABASE\")\n",
    "    schema = os.getenv(\"POSTGRES_SCHEMA\")\n",
    "    showSql = os.getenv(\"POSTGRES_SHOW_SQL\", False)\n",
    "    type = os.getenv(\"POSTGRES_TYPE\", \"postgresql\")\n",
    "    return {\n",
    "        'host': host,\n",
    "        'port': port,\n",
    "        'username': username,\n",
    "        'password': password,\n",
    "        'database': database,\n",
    "        'schema': schema,\n",
    "        'showSql':showSql,\n",
    "       'type':type\n",
    "    }\n",
    "\n",
    "\n",
    "mcp:Datasource = Server(MCP_SERVER_NAME) \n",
    "async def startup_event():\n",
    "    pg = createDatasource(pg_config())\n",
    "    await pg.initialize()\n",
    "    logger.info(\"PostgreSQL connection pool initialized:%s\", pg)\n",
    "async def get_tables(request:Request):\n",
    "    \"\"\"异步查询示例\"\"\"\n",
    "    print(\"=======>\")\n",
    "    try:\n",
    "        pg = getPool(request)\n",
    "        results = await pg.query(\n",
    "            \"SELECT * FROM pg_tables WHERE schemaname = $1\",\n",
    "            ('ipaas',)\n",
    "        )\n",
    "        return JSONResponse({\"tables\": [dict(r) for r in results]})\n",
    "    except Exception as e:\n",
    "        return JSONResponse({\"error\": str(e)}, status_code=500)\n",
    "\n",
    "def getPool(request):\n",
    "    return request.app.state.pg_client    \n",
    "\n",
    "def create_starlette_app():\n",
    "    app = Starlette(\n",
    "        debug=True,\n",
    "        routes=[\n",
    "            Route(\"/messages/\", get_tables),\n",
    "        ],\n",
    "        on_startup=[startup_event]\n",
    "    )\n",
    "    app.state.pg_client = createDatasource(pg_config()) \n",
    "    return app\n",
    "if __name__ == \"__main__\":\n",
    "    parser = argparse.ArgumentParser(description='Run MCP SSE-based server')\n",
    "    parser.add_argument('--host', default='0.0.0.0', help='Host to bind to')\n",
    "    parser.add_argument('--port', type=int, default=18080, help='Port to listen on')\n",
    "    args = parser.parse_args()\n",
    "    logger.info(\"MCP PostgreSQL server started\")\n",
    "    uvicorn.run(\"server:create_starlette_app\", host=args.host, port=args.port,reload=True)"
   ]
  }
 ],
 "metadata": {
  "kernelspec": {
   "display_name": "Python 3",
   "language": "python",
   "name": "python3"
  },
  "language_info": {
   "codemirror_mode": {
    "name": "ipython",
    "version": 3
   },
   "file_extension": ".py",
   "mimetype": "text/x-python",
   "name": "python",
   "nbconvert_exporter": "python",
   "pygments_lexer": "ipython3",
   "version": "3.13.1"
  }
 },
 "nbformat": 4,
 "nbformat_minor": 2
}
